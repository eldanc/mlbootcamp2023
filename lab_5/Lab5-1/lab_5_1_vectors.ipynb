{
 "cells": [
  {
   "cell_type": "markdown",
   "metadata": {
    "id": "GqAaAxqc99Yl"
   },
   "source": [
    "# Experimenting and Understanding Word Embedding/Vectors\n",
    "# Using the GloVe Embeddings\n",
    "\n",
    "\n",
    "Word embeddings (also known as word vectors) are a way to encode the meaning of words into a set of numbers.\n",
    "\n",
    "These embeddings are created by training a neural network model using many examples of the use of language.  These examples could be the whole of Wikipedia or a large collection of news articles.\n",
    "\n",
    "To start, we will explore a set of word embeddings that someone else took the time and computational power to create. One of the most commonly-used pre-trained word embeddings are the **GloVe embeddings**."
   ]
  },
  {
   "cell_type": "markdown",
   "metadata": {
    "id": "7puzBiq999Yn"
   },
   "source": [
    "## GloVe Embeddings\n",
    "\n",
    "You can read about the GloVe embeddings here: https://nlp.stanford.edu/projects/glove/, and read the original paper describing how they work here: https://nlp.stanford.edu/pubs/glove.pdf.\n",
    "\n",
    "There are several variations of GloVe embeddings. They differ in the text used to train the embedding, and the *size* of the embeddings.\n",
    "\n",
    "Throughout this course we'll use a package called `torchtext`, that is part of PyTorch, that we will be using in most assignments and your project.\n",
    "\n",
    "We'll begin by loading a set of GloVe embeddings. The first time you run the code below, it will cause the download of a large file (862MB) containing the embeddings."
   ]
  },
  {
   "cell_type": "code",
   "execution_count": 1,
   "metadata": {
    "colab": {
     "base_uri": "https://localhost:8080/"
    },
    "id": "p78m0q3199Yo",
    "outputId": "dc117c56-36c7-4380-ef36-9626c8e8a964"
   },
   "outputs": [
    {
     "name": "stderr",
     "output_type": "stream",
     "text": [
      "100%|███████████████████████████████████████████████▉| 399999/400000 [00:08<00:00, 48594.50it/s]\n"
     ]
    }
   ],
   "source": [
    "import torch\n",
    "import torchtext\n",
    "\n",
    "# The first time you run this will download a ~823MB file\n",
    "glove = torchtext.vocab.GloVe(name=\"6B\", # trained on Wikipedia 2014 corpus\n",
    "                              dim=50)    # embedding size = 50"
   ]
  },
  {
   "cell_type": "markdown",
   "metadata": {
    "id": "P3IZ4CWQ99Yp"
   },
   "source": [
    "First, let's look at what the embedding of the word \"apple\" looks like:"
   ]
  },
  {
   "cell_type": "code",
   "execution_count": 2,
   "metadata": {
    "colab": {
     "base_uri": "https://localhost:8080/"
    },
    "id": "1Ew755VE99Yp",
    "outputId": "e21e0b5d-1621-4964-ae3c-63ef7dca1318"
   },
   "outputs": [
    {
     "data": {
      "text/plain": [
       "tensor([ 0.5204, -0.8314,  0.4996,  1.2893,  0.1151,  0.0575, -1.3753, -0.9731,\n",
       "         0.1835,  0.4767, -0.1511,  0.3553,  0.2591, -0.7786,  0.5218,  0.4769,\n",
       "        -1.4251,  0.8580,  0.5982, -1.0903,  0.3357, -0.6089,  0.4174,  0.2157,\n",
       "        -0.0742, -0.5822, -0.4502,  0.1725,  0.1645, -0.3841,  2.3283, -0.6668,\n",
       "        -0.5818,  0.7439,  0.0950, -0.4787, -0.8459,  0.3870,  0.2369, -1.5523,\n",
       "         0.6480, -0.1652, -1.4719, -0.1622,  0.7986,  0.9739,  0.4003, -0.2191,\n",
       "        -0.3094,  0.2658])"
      ]
     },
     "execution_count": 2,
     "metadata": {},
     "output_type": "execute_result"
    }
   ],
   "source": [
    "glove['apple']"
   ]
  },
  {
   "cell_type": "markdown",
   "metadata": {
    "id": "QZAj1qse99Yp"
   },
   "source": [
    "You can see that it is a torch tensor with dimension `(50,)`. We don't know what the meaning of each number is, but we do know that there are properties of the embeddings that can be observed.  For example, `distances between embeddings` are meaningful.\n",
    "\n",
    "## Measuring Distance\n",
    "\n",
    "Let's consider one specific metric of distance between two embedding vectors called the **Euclidean distance**. The Euclidean distance of two vectors $x = [x_1, x_2, ... x_n]$ and\n",
    "$y = [y_1, y_2, ... y_n]$ is just the 2-norm of their difference $x - y$. We can compute\n",
    "the Euclidean distance between $x$ and $y$: $\\sqrt{\\sum_i (x_i - y_i)^2}$\n",
    "\n",
    "The PyTorch function `torch.norm` computes the 2-norm of a vector for us, so we\n",
    "can compute the Euclidean distance between two vectors like this:"
   ]
  },
  {
   "cell_type": "code",
   "execution_count": 3,
   "metadata": {
    "colab": {
     "base_uri": "https://localhost:8080/"
    },
    "id": "smunoDEF99Yp",
    "outputId": "48c163be-f4eb-480b-91e5-4d3515370bf2"
   },
   "outputs": [
    {
     "data": {
      "text/plain": [
       "tensor(1.8846)"
      ]
     },
     "execution_count": 3,
     "metadata": {},
     "output_type": "execute_result"
    }
   ],
   "source": [
    "x = glove['cat']\n",
    "y = glove['dog']\n",
    "torch.norm(y - x)"
   ]
  },
  {
   "cell_type": "code",
   "execution_count": 4,
   "metadata": {
    "colab": {
     "base_uri": "https://localhost:8080/"
    },
    "id": "8MTi6Rwf99Yp",
    "outputId": "c4f6f4d8-ea5a-4549-c627-0c111d8bf961"
   },
   "outputs": [
    {
     "data": {
      "text/plain": [
       "tensor(4.9094)"
      ]
     },
     "execution_count": 4,
     "metadata": {},
     "output_type": "execute_result"
    }
   ],
   "source": [
    "a = glove['apple']\n",
    "b = glove['orange']\n",
    "torch.norm(b - a)"
   ]
  },
  {
   "cell_type": "code",
   "execution_count": 5,
   "metadata": {
    "colab": {
     "base_uri": "https://localhost:8080/"
    },
    "id": "c0VK9eqy99Yp",
    "outputId": "b0092ef2-d9cf-4e93-d269-6c2d639e2d75"
   },
   "outputs": [
    {
     "data": {
      "text/plain": [
       "tensor(3.3189)"
      ]
     },
     "execution_count": 5,
     "metadata": {},
     "output_type": "execute_result"
    }
   ],
   "source": [
    "torch.norm(glove['good'] - glove['bad'])"
   ]
  },
  {
   "cell_type": "code",
   "execution_count": 6,
   "metadata": {
    "colab": {
     "base_uri": "https://localhost:8080/"
    },
    "id": "Nq4svYBo99Yp",
    "outputId": "3c6baf31-2777-4dc5-be5f-4d42407ac340"
   },
   "outputs": [
    {
     "data": {
      "text/plain": [
       "tensor(5.3390)"
      ]
     },
     "execution_count": 6,
     "metadata": {},
     "output_type": "execute_result"
    }
   ],
   "source": [
    "torch.norm(glove['good'] - glove['water'])"
   ]
  },
  {
   "cell_type": "code",
   "execution_count": 7,
   "metadata": {
    "colab": {
     "base_uri": "https://localhost:8080/"
    },
    "id": "jRRIhHEe99Yq",
    "outputId": "535bf145-c750-4a82-c14d-7d1603ce2d16"
   },
   "outputs": [
    {
     "data": {
      "text/plain": [
       "tensor(2.7703)"
      ]
     },
     "execution_count": 7,
     "metadata": {},
     "output_type": "execute_result"
    }
   ],
   "source": [
    "torch.norm(glove['good'] - glove['well'])"
   ]
  },
  {
   "cell_type": "code",
   "execution_count": 8,
   "metadata": {
    "colab": {
     "base_uri": "https://localhost:8080/"
    },
    "id": "GqICE9As99Yq",
    "outputId": "f7a56626-5427-4be4-f326-d7792319d5b7"
   },
   "outputs": [
    {
     "data": {
      "text/plain": [
       "tensor(2.8834)"
      ]
     },
     "execution_count": 8,
     "metadata": {},
     "output_type": "execute_result"
    }
   ],
   "source": [
    "torch.norm(glove['good'] - glove['perfect'])"
   ]
  },
  {
   "cell_type": "markdown",
   "metadata": {
    "id": "OcghNpkT99Yq"
   },
   "source": [
    "## Cosine Similarity\n",
    "\n",
    "An alternative and more commonly-used measure of distance is the **Cosine Similarity**. The cosine similarity measures the *angle* between two vectors, and has the property that it only considers the *direction* of the vectors, not their the magnitudes. It is computed as follows for two vectors A and B:\n",
    "\n",
    "\n",
    "![picture](https://drive.google.com/uc?id=1hSaQRBjH828lx1xozJCA4F0ZhiX2S0Xt)"
   ]
  },
  {
   "cell_type": "code",
   "execution_count": 9,
   "metadata": {
    "colab": {
     "base_uri": "https://localhost:8080/"
    },
    "id": "ZRj5_N4A99Yq",
    "outputId": "0d7a7075-d952-4377-cb97-f34290522d19"
   },
   "outputs": [
    {
     "data": {
      "text/plain": [
       "tensor([1.0000])"
      ]
     },
     "execution_count": 9,
     "metadata": {},
     "output_type": "execute_result"
    }
   ],
   "source": [
    "x = torch.tensor([1., 1., 1.]).unsqueeze(0) # cosine similarity wants at least 2-D inputs\n",
    "y = torch.tensor([2., 2., 2.]).unsqueeze(0)\n",
    "torch.cosine_similarity(x, y) # should be one because x and y point in the same \"direction\""
   ]
  },
  {
   "cell_type": "markdown",
   "metadata": {
    "id": "MARlMMmT99Yq"
   },
   "source": [
    "The cosine similarity is actually a *similarity* measure rather than a *distance* measure, and gives a result between -1 and 1. Thus, the larger the similarity, (closer to 1) the \"closer in meaning\" the word embeddings are to each other."
   ]
  },
  {
   "cell_type": "code",
   "execution_count": 10,
   "metadata": {
    "colab": {
     "base_uri": "https://localhost:8080/"
    },
    "id": "f6_GC22D99Yq",
    "outputId": "ff08769c-ae6a-457b-c4b0-7afd0a3565c1"
   },
   "outputs": [
    {
     "data": {
      "text/plain": [
       "tensor([-1.0000])"
      ]
     },
     "execution_count": 10,
     "metadata": {},
     "output_type": "execute_result"
    }
   ],
   "source": [
    "z = torch.tensor([-1., -1., -1.]).unsqueeze(0)\n",
    "torch.cosine_similarity(x, z) # should be -1 because x and y point in the opposite \"direction\""
   ]
  },
  {
   "cell_type": "code",
   "execution_count": 11,
   "metadata": {
    "colab": {
     "base_uri": "https://localhost:8080/"
    },
    "id": "m3hwV7w_99Yq",
    "outputId": "670991f1-9188-40b4-ad59-af96ab3e3994"
   },
   "outputs": [
    {
     "data": {
      "text/plain": [
       "tensor([0.9218])"
      ]
     },
     "execution_count": 11,
     "metadata": {},
     "output_type": "execute_result"
    }
   ],
   "source": [
    "x = glove['cat']\n",
    "y = glove['dog']\n",
    "torch.cosine_similarity(x.unsqueeze(0), y.unsqueeze(0))"
   ]
  },
  {
   "cell_type": "code",
   "execution_count": 12,
   "metadata": {
    "colab": {
     "base_uri": "https://localhost:8080/"
    },
    "id": "_Ity4RwS99Yq",
    "outputId": "93e11a1e-e40e-4952-ecab-bad4fde5331a"
   },
   "outputs": [
    {
     "data": {
      "text/plain": [
       "tensor([0.5608])"
      ]
     },
     "execution_count": 12,
     "metadata": {},
     "output_type": "execute_result"
    }
   ],
   "source": [
    "a = glove['apple']\n",
    "b = glove['banana']\n",
    "torch.cosine_similarity(a.unsqueeze(0), b.unsqueeze(0))"
   ]
  },
  {
   "cell_type": "code",
   "execution_count": 13,
   "metadata": {
    "colab": {
     "base_uri": "https://localhost:8080/"
    },
    "id": "bq1wWAfA99Yq",
    "outputId": "1a96746f-560b-4e12-e2a9-429e8bd45f8f"
   },
   "outputs": [
    {
     "data": {
      "text/plain": [
       "tensor([0.7965])"
      ]
     },
     "execution_count": 13,
     "metadata": {},
     "output_type": "execute_result"
    }
   ],
   "source": [
    "torch.cosine_similarity(glove['good'].unsqueeze(0),\n",
    "                        glove['bad'].unsqueeze(0))"
   ]
  },
  {
   "cell_type": "code",
   "execution_count": 14,
   "metadata": {
    "colab": {
     "base_uri": "https://localhost:8080/"
    },
    "id": "PgacaaSl99Yr",
    "outputId": "6b903980-e266-4c59-8b8c-aa8914ddfb5c"
   },
   "outputs": [
    {
     "data": {
      "text/plain": [
       "tensor([0.8511])"
      ]
     },
     "execution_count": 14,
     "metadata": {},
     "output_type": "execute_result"
    }
   ],
   "source": [
    "torch.cosine_similarity(glove['good'].unsqueeze(0),\n",
    "                        glove['well'].unsqueeze(0))"
   ]
  },
  {
   "cell_type": "code",
   "execution_count": 15,
   "metadata": {
    "colab": {
     "base_uri": "https://localhost:8080/"
    },
    "id": "zeKyUH9p99Yr",
    "outputId": "b1e3fec7-face-4db4-f005-41f16867a543"
   },
   "outputs": [
    {
     "data": {
      "text/plain": [
       "tensor([0.8376])"
      ]
     },
     "execution_count": 15,
     "metadata": {},
     "output_type": "execute_result"
    }
   ],
   "source": [
    "torch.cosine_similarity(glove['good'].unsqueeze(0),\n",
    "                        glove['perfect'].unsqueeze(0))"
   ]
  },
  {
   "cell_type": "markdown",
   "metadata": {
    "id": "awyUgrkL99Yr"
   },
   "source": [
    "Note: torch.cosine_similarity requires two dimensions to work, which is created with the unsqueeze option, illustrated in more detail below"
   ]
  },
  {
   "cell_type": "code",
   "execution_count": 16,
   "metadata": {
    "colab": {
     "base_uri": "https://localhost:8080/"
    },
    "id": "YvPTuyyE99Yr",
    "outputId": "9b1304d8-6fd4-409d-ee46-722767d9e3b2"
   },
   "outputs": [
    {
     "name": "stdout",
     "output_type": "stream",
     "text": [
      "torch.Size([50])\n",
      "torch.Size([1, 50])\n"
     ]
    }
   ],
   "source": [
    "x = glove['good']\n",
    "print(x.shape) # [50]\n",
    "y = x.unsqueeze(0) # [1, 50]\n",
    "print(y.shape)"
   ]
  },
  {
   "cell_type": "markdown",
   "metadata": {
    "id": "Nw_gKe0c99Yr"
   },
   "source": [
    "## Word Similarity\n",
    "\n",
    "Now that we have notions of distance and similarity in our embedding space, we can talk about words that are \"close\" to each other in the embedding space. For now, let's use Euclidean distances to look at how close various words are to the word \"cat\"."
   ]
  },
  {
   "cell_type": "code",
   "execution_count": 17,
   "metadata": {
    "colab": {
     "base_uri": "https://localhost:8080/"
    },
    "id": "BbrQOwhU99Yr",
    "outputId": "a5c98eb2-25a3-428d-8741-ddb213595c51",
    "scrolled": true
   },
   "outputs": [
    {
     "name": "stdout",
     "output_type": "stream",
     "text": [
      "pet \t 3.04\n",
      "dog \t 1.88\n",
      "bike \t 5.05\n",
      "kitten \t 3.51\n",
      "puppy \t 3.06\n",
      "kite \t 4.21\n",
      "computer \t 6.03\n",
      "neuron \t 6.23\n"
     ]
    }
   ],
   "source": [
    "word = 'cat'\n",
    "other = ['pet', 'dog', 'bike', 'kitten', 'puppy', 'kite', 'computer', 'neuron']\n",
    "for w in other:\n",
    "    dist = torch.norm(glove[word] - glove[w]) # euclidean distance\n",
    "    print(w, \"\\t%5.2f\" % float(dist))"
   ]
  },
  {
   "cell_type": "markdown",
   "metadata": {
    "id": "zyCJK68I99Yr"
   },
   "source": [
    "Let's do the same thing with cosine similarity:"
   ]
  },
  {
   "cell_type": "code",
   "execution_count": 18,
   "metadata": {
    "colab": {
     "base_uri": "https://localhost:8080/"
    },
    "id": "pHT-Lqcj99Yr",
    "outputId": "91cfe872-d66a-4a3a-8e0d-12e1fd26c552"
   },
   "outputs": [
    {
     "name": "stdout",
     "output_type": "stream",
     "text": [
      "pet \t 0.78\n",
      "dog \t 0.92\n",
      "bike \t 0.44\n",
      "kitten \t 0.64\n",
      "puppy \t 0.76\n",
      "kite \t 0.49\n",
      "computer \t 0.35\n",
      "neuron \t 0.21\n"
     ]
    }
   ],
   "source": [
    "word = 'cat'\n",
    "other = ['pet', 'dog', 'bike', 'kitten', 'puppy', 'kite', 'computer', 'neuron']\n",
    "for w in other:\n",
    "    dist = torch.cosine_similarity(glove[word].unsqueeze(0),glove[w].unsqueeze(0)) # cosine distance\n",
    "    print(w, \"\\t%5.2f\" % float(dist))"
   ]
  },
  {
   "cell_type": "markdown",
   "metadata": {
    "id": "pGxhkuKa99Yr"
   },
   "source": [
    "We can look through the entire **vocabulary** for words that are closest to a point in the embedding space -- for example, we can look for words that are closest to another word such as \"cat\"."
   ]
  },
  {
   "cell_type": "code",
   "execution_count": 19,
   "metadata": {
    "colab": {
     "base_uri": "https://localhost:8080/"
    },
    "id": "39mZMbjV99Yr",
    "outputId": "0f811a09-4cad-4b9d-cf7b-9eebc13f63f8"
   },
   "outputs": [
    {
     "name": "stdout",
     "output_type": "stream",
     "text": [
      "dog \t 1.88\n",
      "rabbit \t 2.46\n",
      "monkey \t 2.81\n",
      "cats \t 2.90\n",
      "rat \t 2.95\n",
      "beast \t 2.99\n",
      "monster \t 3.00\n",
      "pet \t 3.04\n",
      "snake \t 3.06\n",
      "puppy \t 3.06\n"
     ]
    }
   ],
   "source": [
    "def print_closest_words(vec, n=5):\n",
    "    dists = torch.norm(glove.vectors - vec, dim=1)     # compute distances to all words\n",
    "    lst = sorted(enumerate(dists.numpy()), key=lambda x: x[1]) # sort by distance\n",
    "    for idx, difference in lst[1:n+1]:                         # take the top n\n",
    "        print(glove.itos[idx], \"\\t%5.2f\" % difference)\n",
    "\n",
    "print_closest_words(glove[\"cat\"], n=10)"
   ]
  },
  {
   "cell_type": "code",
   "execution_count": 20,
   "metadata": {
    "colab": {
     "base_uri": "https://localhost:8080/"
    },
    "id": "V5p4l5_B99Yr",
    "outputId": "60b75d57-8413-40b7-8af6-a1582662ec8c"
   },
   "outputs": [
    {
     "name": "stdout",
     "output_type": "stream",
     "text": [
      "cat \t 1.88\n",
      "dogs \t 2.65\n",
      "puppy \t 3.15\n",
      "rabbit \t 3.18\n",
      "pet \t 3.23\n"
     ]
    }
   ],
   "source": [
    "print_closest_words(glove['dog'])"
   ]
  },
  {
   "cell_type": "code",
   "execution_count": 21,
   "metadata": {
    "colab": {
     "base_uri": "https://localhost:8080/"
    },
    "id": "aX1cma3R99Yr",
    "outputId": "cc55cc45-b6b2-436e-d4d9-96c664347840"
   },
   "outputs": [
    {
     "name": "stdout",
     "output_type": "stream",
     "text": [
      "doctor \t 3.13\n",
      "dentist \t 3.13\n",
      "nurses \t 3.27\n",
      "pediatrician \t 3.32\n",
      "counselor \t 3.40\n"
     ]
    }
   ],
   "source": [
    "print_closest_words(glove['nurse'])"
   ]
  },
  {
   "cell_type": "code",
   "execution_count": 22,
   "metadata": {
    "colab": {
     "base_uri": "https://localhost:8080/"
    },
    "id": "0jBDl1l899Ys",
    "outputId": "17c8b297-37ef-49c9-87ed-0714fb10a9b4"
   },
   "outputs": [
    {
     "name": "stdout",
     "output_type": "stream",
     "text": [
      "computers \t 2.44\n",
      "software \t 2.93\n",
      "technology \t 3.19\n",
      "electronic \t 3.51\n",
      "computing \t 3.60\n"
     ]
    }
   ],
   "source": [
    "print_closest_words(glove['computer'])"
   ]
  },
  {
   "cell_type": "code",
   "execution_count": 23,
   "metadata": {
    "colab": {
     "base_uri": "https://localhost:8080/"
    },
    "id": "yVjSTcli99Ys",
    "outputId": "db9c33fc-f081-4ff4-fdb9-4adb4c571b84"
   },
   "outputs": [
    {
     "name": "stdout",
     "output_type": "stream",
     "text": [
      "margaret \t 2.01\n",
      "mary \t 2.27\n",
      "anne \t 2.30\n",
      "catherine \t 2.62\n",
      "katherine \t 2.72\n"
     ]
    }
   ],
   "source": [
    "print_closest_words(glove['elizabeth'])"
   ]
  },
  {
   "cell_type": "code",
   "execution_count": 24,
   "metadata": {
    "colab": {
     "base_uri": "https://localhost:8080/"
    },
    "id": "ypOYuxJ_99Ys",
    "outputId": "7df022a4-4e62-4966-a6d6-a29b74dd62f4"
   },
   "outputs": [
    {
     "name": "stdout",
     "output_type": "stream",
     "text": [
      "peter \t 2.92\n",
      "moore \t 2.93\n",
      "david \t 2.94\n",
      "steven \t 2.99\n",
      "murphy \t 3.02\n"
     ]
    }
   ],
   "source": [
    "print_closest_words(glove['michael'])"
   ]
  },
  {
   "cell_type": "code",
   "execution_count": 25,
   "metadata": {
    "colab": {
     "base_uri": "https://localhost:8080/"
    },
    "id": "GNKsQG3j99Ys",
    "outputId": "07fd73c5-a5dc-464b-8a42-b443f4294aed"
   },
   "outputs": [
    {
     "name": "stdout",
     "output_type": "stream",
     "text": [
      "care \t 2.64\n",
      "medical \t 3.24\n",
      "welfare \t 3.62\n",
      "prevention \t 3.76\n",
      "education \t 3.76\n"
     ]
    }
   ],
   "source": [
    "print_closest_words(glove['health'])"
   ]
  },
  {
   "cell_type": "code",
   "execution_count": 26,
   "metadata": {
    "colab": {
     "base_uri": "https://localhost:8080/"
    },
    "id": "1CVXIQFB99Ys",
    "outputId": "9e997a3c-b57e-4576-c542-94f5c0f00cb4"
   },
   "outputs": [
    {
     "name": "stdout",
     "output_type": "stream",
     "text": [
      "persistent \t 3.23\n",
      "experiencing \t 3.25\n",
      "discomfort \t 3.29\n",
      "nervousness \t 3.29\n",
      "anxieties \t 3.30\n"
     ]
    }
   ],
   "source": [
    "print_closest_words(glove['anxiety'])"
   ]
  },
  {
   "cell_type": "markdown",
   "metadata": {
    "id": "J1DLJS1J99Ys"
   },
   "source": [
    "We could also look at which words are closest to the midpoints of two words:"
   ]
  },
  {
   "cell_type": "code",
   "execution_count": 27,
   "metadata": {
    "colab": {
     "base_uri": "https://localhost:8080/"
    },
    "id": "dQmkrSrD99Ys",
    "outputId": "c464296d-958f-4b3f-9a98-62df62451ace"
   },
   "outputs": [
    {
     "name": "stdout",
     "output_type": "stream",
     "text": [
      "happy \t 1.92\n",
      "feels \t 2.36\n",
      "sorry \t 2.50\n",
      "hardly \t 2.53\n",
      "imagine \t 2.57\n"
     ]
    }
   ],
   "source": [
    "print_closest_words((glove['happy'] + glove['sad']) / 2)"
   ]
  },
  {
   "cell_type": "code",
   "execution_count": 28,
   "metadata": {
    "colab": {
     "base_uri": "https://localhost:8080/"
    },
    "id": "EZeT-n2n99Ys",
    "outputId": "ea7d28f7-63a1-4a52-d958-ac1ea52ec975"
   },
   "outputs": [
    {
     "name": "stdout",
     "output_type": "stream",
     "text": [
      "surrounding \t 3.07\n",
      "nearby \t 3.11\n",
      "bridge \t 3.16\n",
      "along \t 3.16\n",
      "shore \t 3.16\n"
     ]
    }
   ],
   "source": [
    "print_closest_words((glove['lake'] + glove['building']) / 2)"
   ]
  },
  {
   "cell_type": "code",
   "execution_count": 29,
   "metadata": {
    "colab": {
     "base_uri": "https://localhost:8080/"
    },
    "id": "O79XeTzQ99Ys",
    "outputId": "6316382c-8e0f-42df-8579-c70075dcf1e2"
   },
   "outputs": [
    {
     "name": "stdout",
     "output_type": "stream",
     "text": [
      "farrell \t 2.80\n",
      "anderson \t 2.85\n",
      "jacobs \t 2.85\n",
      "boyle \t 2.86\n",
      "slater \t 2.87\n"
     ]
    }
   ],
   "source": [
    "print_closest_words((glove['bravo'] + glove['michael']) / 2)"
   ]
  },
  {
   "cell_type": "code",
   "execution_count": 30,
   "metadata": {
    "colab": {
     "base_uri": "https://localhost:8080/"
    },
    "id": "kk2gseFG99Ys",
    "outputId": "695f50f0-2b50-4eb0-9fbf-75b6d228c5d5"
   },
   "outputs": [
    {
     "name": "stdout",
     "output_type": "stream",
     "text": [
      "ten \t 1.57\n",
      "only \t 1.88\n",
      "three \t 2.03\n",
      "five \t 2.05\n",
      "four \t 2.11\n"
     ]
    }
   ],
   "source": [
    "print_closest_words((glove['one'] + glove['ten']) / 2)"
   ]
  },
  {
   "cell_type": "markdown",
   "metadata": {
    "id": "OI5bF6mB99Ys"
   },
   "source": [
    "## Analogies\n",
    "\n",
    "One surprising aspect of word embeddings is that the *directions* in the embedding space can be meaningful. For example, some analogy-like relationships like this tend to hold:\n",
    "\n",
    "$$ king - man + woman \\approx queen $$"
   ]
  },
  {
   "cell_type": "code",
   "execution_count": 31,
   "metadata": {
    "colab": {
     "base_uri": "https://localhost:8080/"
    },
    "id": "KGAw3vDB99Yt",
    "outputId": "d1cec847-2c83-4d92-f767-026760850f6e"
   },
   "outputs": [
    {
     "name": "stdout",
     "output_type": "stream",
     "text": [
      "queen \t 2.84\n",
      "prince \t 3.66\n",
      "elizabeth \t 3.72\n",
      "daughter \t 3.83\n",
      "widow \t 3.85\n"
     ]
    }
   ],
   "source": [
    "print_closest_words(glove['king'] - glove['man'] + glove['woman'])"
   ]
  },
  {
   "cell_type": "markdown",
   "metadata": {
    "id": "r43ygTSK99Yt"
   },
   "source": [
    "The top result is a reasonable answer like \"queen\",  and the name of the queen of england.\n",
    "\n",
    "We can flip the analogy around and it works:"
   ]
  },
  {
   "cell_type": "code",
   "execution_count": 32,
   "metadata": {
    "colab": {
     "base_uri": "https://localhost:8080/"
    },
    "id": "GKvQxvSe99Yt",
    "outputId": "d91bd938-d7c9-401f-feb5-7f0e08a03b45"
   },
   "outputs": [
    {
     "name": "stdout",
     "output_type": "stream",
     "text": [
      "king \t 2.84\n",
      "prince \t 3.25\n",
      "crown \t 3.45\n",
      "knight \t 3.56\n",
      "coronation \t 3.62\n"
     ]
    }
   ],
   "source": [
    "print_closest_words(glove['queen'] - glove['woman'] + glove['man'])"
   ]
  },
  {
   "cell_type": "markdown",
   "metadata": {
    "id": "c7YUgiNV99Yt"
   },
   "source": [
    "Or, try a different but related analogies along a gender axis:"
   ]
  },
  {
   "cell_type": "code",
   "execution_count": 33,
   "metadata": {
    "colab": {
     "base_uri": "https://localhost:8080/"
    },
    "id": "QfOQN6Ip99Yt",
    "outputId": "d059064e-c3b9-4f7b-eca2-95697f9533a6"
   },
   "outputs": [
    {
     "name": "stdout",
     "output_type": "stream",
     "text": [
      "queen \t 3.18\n",
      "king \t 3.91\n",
      "bride \t 4.29\n",
      "lady \t 4.30\n",
      "sister \t 4.42\n"
     ]
    }
   ],
   "source": [
    "print_closest_words(glove['king'] - glove['prince'] + glove['princess'])"
   ]
  },
  {
   "cell_type": "code",
   "execution_count": 34,
   "metadata": {
    "colab": {
     "base_uri": "https://localhost:8080/"
    },
    "id": "AF7FBLAM99Yt",
    "outputId": "98b253be-dc9a-48b8-f152-2d28cd42e0d5"
   },
   "outputs": [
    {
     "name": "stdout",
     "output_type": "stream",
     "text": [
      "grandmother \t 2.32\n",
      "aunt \t 2.35\n",
      "granddaughter \t 2.36\n",
      "daughter \t 2.40\n",
      "uncle \t 2.60\n"
     ]
    }
   ],
   "source": [
    "print_closest_words(glove['uncle'] - glove['man'] + glove['woman'])"
   ]
  },
  {
   "cell_type": "code",
   "execution_count": 35,
   "metadata": {
    "colab": {
     "base_uri": "https://localhost:8080/"
    },
    "id": "T4uu_ntm99Yt",
    "outputId": "9ea985ae-2975-4222-8f51-6d1aaf0810f6"
   },
   "outputs": [
    {
     "name": "stdout",
     "output_type": "stream",
     "text": [
      "uncle \t 2.08\n",
      "father \t 2.09\n",
      "grandson \t 2.30\n",
      "nephew \t 2.35\n",
      "elder \t 2.43\n"
     ]
    }
   ],
   "source": [
    "print_closest_words(glove['grandmother'] - glove['mother'] + glove['father'])"
   ]
  },
  {
   "cell_type": "code",
   "execution_count": 36,
   "metadata": {
    "colab": {
     "base_uri": "https://localhost:8080/"
    },
    "id": "q3rSRqvh99Yt",
    "outputId": "4887ca78-4e77-4f12-b18a-e9308e18bed3"
   },
   "outputs": [
    {
     "name": "stdout",
     "output_type": "stream",
     "text": [
      "father \t 4.03\n",
      "son \t 4.41\n",
      "grandfather \t 4.52\n",
      "grandson \t 4.72\n",
      "daughter \t 4.79\n"
     ]
    }
   ],
   "source": [
    "print_closest_words(glove['old'] - glove['young'] + glove['father'])"
   ]
  },
  {
   "cell_type": "markdown",
   "metadata": {
    "id": "YWopmbsR99Yu"
   },
   "source": [
    "We can also move an embedding towards the direction of \"goodness\" or \"badness\":"
   ]
  },
  {
   "cell_type": "code",
   "execution_count": 37,
   "metadata": {
    "colab": {
     "base_uri": "https://localhost:8080/"
    },
    "id": "BCWbIWBS99Yu",
    "outputId": "c59c99ad-4de2-4211-8c3d-38438503651f"
   },
   "outputs": [
    {
     "name": "stdout",
     "output_type": "stream",
     "text": [
      "versatile \t 4.38\n",
      "creative \t 4.57\n",
      "entrepreneur \t 4.63\n",
      "enables \t 4.72\n",
      "intelligent \t 4.73\n"
     ]
    }
   ],
   "source": [
    "print_closest_words(glove['good'] - glove['bad'] + glove['programmer'])"
   ]
  },
  {
   "cell_type": "code",
   "execution_count": 38,
   "metadata": {
    "colab": {
     "base_uri": "https://localhost:8080/"
    },
    "id": "8scOzeRX99Yu",
    "outputId": "b1e4c1dd-5368-440b-9ab1-005102a645ca"
   },
   "outputs": [
    {
     "name": "stdout",
     "output_type": "stream",
     "text": [
      "hacker \t 3.84\n",
      "glitch \t 4.00\n",
      "originator \t 4.04\n",
      "hack \t 4.05\n",
      "serial \t 4.23\n"
     ]
    }
   ],
   "source": [
    "print_closest_words(glove['bad'] - glove['good'] + glove['programmer'])"
   ]
  },
  {
   "cell_type": "markdown",
   "metadata": {
    "id": "n6QGuaXc99Yu"
   },
   "source": [
    "## Bias in Word Vectors\n",
    "\n",
    "While it may appear that machine learning models have an implicit air of \"fairness\" about them, because the models\n",
    "make decisions without human intervention. However, models can and do learn whatever bias is present in the training data - in this case the bias is present in the text that the vectors were trained on.\n",
    "\n",
    "Below are some examples that show that the structure of the GloVe vectors encodes the everyday biases present in the texts that they are trained on.\n",
    "\n",
    "We'll start with an example analogy:\n",
    "\n",
    "$$doctor - man + woman \\approx ??$$\n",
    "\n",
    "Using GloVe vectors to find the answer to the above analogy:"
   ]
  },
  {
   "cell_type": "code",
   "execution_count": 39,
   "metadata": {
    "colab": {
     "base_uri": "https://localhost:8080/"
    },
    "id": "2MzuYPiv99Yu",
    "outputId": "d857ff78-21fa-4929-a02c-ce3c551edc1c"
   },
   "outputs": [
    {
     "name": "stdout",
     "output_type": "stream",
     "text": [
      "nurse \t 3.14\n",
      "pregnant \t 3.78\n",
      "child \t 3.78\n",
      "woman \t 3.86\n",
      "mother \t 3.92\n"
     ]
    }
   ],
   "source": [
    "print_closest_words(glove['doctor'] - glove['man'] + glove['woman'])"
   ]
  },
  {
   "cell_type": "markdown",
   "metadata": {
    "id": "3AtwzrIi99Yu"
   },
   "source": [
    "The $$doctor - man + woman \\approx nurse$$ analogy is very concerning.\n",
    "Just to verify, the same result does not appear if we flip the gender terms:"
   ]
  },
  {
   "cell_type": "code",
   "execution_count": 40,
   "metadata": {
    "colab": {
     "base_uri": "https://localhost:8080/"
    },
    "id": "tySJZypY99Yu",
    "outputId": "8d79ac22-c32f-4d50-bb79-d17897477ee0"
   },
   "outputs": [
    {
     "name": "stdout",
     "output_type": "stream",
     "text": [
      "man \t 3.93\n",
      "colleague \t 3.98\n",
      "himself \t 3.98\n",
      "brother \t 4.00\n",
      "another \t 4.03\n"
     ]
    }
   ],
   "source": [
    "print_closest_words(glove['doctor'] - glove['woman'] + glove['man'])"
   ]
  },
  {
   "cell_type": "markdown",
   "metadata": {
    "id": "jqeofQQk99Yu"
   },
   "source": [
    "We see similar types of gender bias with other professions."
   ]
  },
  {
   "cell_type": "code",
   "execution_count": 41,
   "metadata": {
    "colab": {
     "base_uri": "https://localhost:8080/"
    },
    "id": "Ij-11Pvm99Yu",
    "outputId": "92820fca-99b3-4f7c-9a8e-594651d75402"
   },
   "outputs": [
    {
     "name": "stdout",
     "output_type": "stream",
     "text": [
      "prodigy \t 3.67\n",
      "psychotherapist \t 3.81\n",
      "therapist \t 3.81\n",
      "introduces \t 3.91\n",
      "swedish-born \t 4.12\n"
     ]
    }
   ],
   "source": [
    "print_closest_words(glove['programmer'] - glove['man'] + glove['woman'])"
   ]
  },
  {
   "cell_type": "markdown",
   "metadata": {
    "id": "edwiD1ca99Yv"
   },
   "source": [
    "Beyond the first result, none of the other words are even related to\n",
    "programming! In contrast, if we flip the gender terms, we get very\n",
    "different results:"
   ]
  },
  {
   "cell_type": "code",
   "execution_count": 42,
   "metadata": {
    "colab": {
     "base_uri": "https://localhost:8080/"
    },
    "id": "hNCLFktR99Yv",
    "outputId": "ef5c54b2-f871-4374-b769-8b40544625dd"
   },
   "outputs": [
    {
     "name": "stdout",
     "output_type": "stream",
     "text": [
      "setup \t 4.00\n",
      "innovator \t 4.07\n",
      "programmers \t 4.17\n",
      "hacker \t 4.23\n",
      "genius \t 4.36\n"
     ]
    }
   ],
   "source": [
    "print_closest_words(glove['programmer'] - glove['woman'] + glove['man'])"
   ]
  },
  {
   "cell_type": "markdown",
   "metadata": {
    "id": "faEgoJeH99Yv"
   },
   "source": [
    "Here are the results for \"engineer\":"
   ]
  },
  {
   "cell_type": "code",
   "execution_count": 43,
   "metadata": {
    "colab": {
     "base_uri": "https://localhost:8080/"
    },
    "id": "4QgemNNl99Yv",
    "outputId": "a6e4a132-a136-4fe7-9931-c41d784a34b1"
   },
   "outputs": [
    {
     "name": "stdout",
     "output_type": "stream",
     "text": [
      "technician \t 3.69\n",
      "mechanic \t 3.92\n",
      "pioneer \t 4.15\n",
      "pioneering \t 4.19\n",
      "educator \t 4.23\n"
     ]
    }
   ],
   "source": [
    "print_closest_words(glove['engineer'] - glove['man'] + glove['woman'])"
   ]
  },
  {
   "cell_type": "code",
   "execution_count": 44,
   "metadata": {
    "colab": {
     "base_uri": "https://localhost:8080/"
    },
    "id": "TQJx0-sq99Yv",
    "outputId": "5591b9a8-dec1-4afb-8d0a-cc916c1167a3"
   },
   "outputs": [
    {
     "name": "stdout",
     "output_type": "stream",
     "text": [
      "builder \t 4.35\n",
      "mechanic \t 4.40\n",
      "engineers \t 4.48\n",
      "worked \t 4.53\n",
      "replacing \t 4.60\n"
     ]
    }
   ],
   "source": [
    "print_closest_words(glove['engineer'] - glove['woman'] + glove['man'])"
   ]
  },
  {
   "cell_type": "code",
   "execution_count": null,
   "metadata": {
    "id": "YRBalr3tFI01"
   },
   "outputs": [],
   "source": []
  }
 ],
 "metadata": {
  "colab": {
   "provenance": []
  },
  "kernelspec": {
   "display_name": "Python 3 (ipykernel)",
   "language": "python",
   "name": "python3"
  },
  "language_info": {
   "codemirror_mode": {
    "name": "ipython",
    "version": 3
   },
   "file_extension": ".py",
   "mimetype": "text/x-python",
   "name": "python",
   "nbconvert_exporter": "python",
   "pygments_lexer": "ipython3",
   "version": "3.10.11"
  }
 },
 "nbformat": 4,
 "nbformat_minor": 1
}
