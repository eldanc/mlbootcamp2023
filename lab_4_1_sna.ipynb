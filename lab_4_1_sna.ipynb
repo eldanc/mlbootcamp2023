{
 "nbformat": 4,
 "nbformat_minor": 0,
 "metadata": {
  "colab": {
   "provenance": []
  },
  "kernelspec": {
   "name": "python3",
   "language": "python",
   "display_name": "Python 3 (ipykernel)"
  },
  "language_info": {
   "name": "python"
  }
 },
 "cells": [
  {
   "cell_type": "markdown",
   "source": [
    "[![Open In Colab](https://colab.research.google.com/assets/colab-badge.svg)](https://colab.research.google.com/github/eldanc/mlbootcamp2023/blob/main/lab_4_1_sna.ipynb)\n",
    "\n",
    "# UofT FASE ML Bootcamp\n",
    "#### Wednesday, June 26, 2023\n",
    "#### Social Network Analysis - Lab 2, Day 4\n",
    "#### Teaching team: Eldan Cohen, Alex Olson, Nakul Upadhya, Shehnaz Islam\n",
    "##### Lab author: Shehnaz Islam, shehnaz.islam@mail.utoronto.ca, edited by Eldan Cohen"
   ],
   "metadata": {
    "id": "Uw1g55wX4oeT"
   }
  },
  {
   "cell_type": "markdown",
   "source": [
    "In this lab, we will cover Social Network Analysis (SNA) using networkx and plotly python libraries. Topics include:\n",
    "\n",
    "\n",
    "* Introduction to network graphs and properties\n",
    "* Building and analyzing a Facebook network with networkx and plotly\n",
    "* Visualizing and analyzing network connectivity with various measures\n",
    "* Implementing community detection algorithms for finding network communities.\n",
    "\n",
    "\n",
    "Note: Some other useful Python libraries include matplotlib (for plotting/graphing) and Pandas (for data analysis), though we won't be going into detail on these in this bootcamp.\n",
    "\n"
   ],
   "metadata": {
    "id": "vyMKIeis4rHA"
   }
  },
  {
   "cell_type": "markdown",
   "source": [
    "# Facebook Network Analysis\n",
    "\n",
    "We will be conducting social network analysis on a Facebook dataset using NetworkX library.\n",
    "The dataset can be found in the [stanford website](https://snap.stanford.edu/data/ego-Facebook.html). Before we look into the data, lets get some basics out of the way.\n",
    "\n",
    "</br>\n",
    "\n",
    "Network graphs can be directed or undirected:\n",
    "\n",
    "**Directed graphs** have edges with direction. The edges indicate a one-way relationship, in that each edge can only be traversed in a single direction.\n",
    "\n",
    "**Undirected graphs** have edges that do not have a direction. The edges indicate a two-way relationship, in that each edge can be traversed in both directions.\n",
    "\n",
    "\n",
    "A facebook network is an **undirected** and **unweighted** (i.e. no weights/numeric value assigned to each edge) graph because one user can become friends with another user just once. Thus, the direction of edges in the graph does not matter."
   ],
   "metadata": {
    "id": "PLvOIOi_4tkY"
   }
  },
  {
   "cell_type": "code",
   "execution_count": null,
   "metadata": {
    "id": "iBB3_xQW4iaR"
   },
   "outputs": [],
   "source": [
    "# Import libraries\n",
    "%matplotlib inline\n",
    "import pandas as pd\n",
    "import numpy as np\n",
    "import networkx as nx\n",
    "import matplotlib.pyplot as plt\n",
    "from random import randint"
   ]
  },
  {
   "cell_type": "markdown",
   "source": [
    "## Load the dataset\n",
    "\n",
    "<img src=\"https://raw.githubusercontent.com/eldanc/mlbootcamp2023/main/SNANodesEdge.png\" width=\"300\" height=\"300\">\n",
    "\n",
    "Looking at the dataset as a Network Graph:\n",
    "* Each Node represent an anonymized facebook user.\n",
    "* Each Edge corresponds to the friendship of two facebook users that belong to this network.\n",
    "\n",
    "To simplify the problem, we will be analyzing the friend list of only 10 nodes (users) specified below:\n",
    "\n",
    "Nodes 0, 107, 348, 414, 686, 698, 1684, 1912, 3437, 3980\n",
    "\n",
    "We'll refer to these nodes as \"**spotlight nodes**\" throughput this lab.\n",
    "\n"
   ],
   "metadata": {
    "id": "lOOnaZGC42WI"
   }
  },
  {
   "cell_type": "code",
   "source": [
    "!git clone https://github.com/AllenDowney/ComplexityScience.git"
   ],
   "metadata": {
    "colab": {
     "base_uri": "https://localhost:8080/"
    },
    "id": "Fxc94RT84wxa",
    "outputId": "db9c2db8-f9e5-450f-c5c8-37b5881b6034"
   },
   "execution_count": null,
   "outputs": []
  },
  {
   "cell_type": "code",
   "source": [
    "# Load the dataset into a pandas dataframe\n",
    "facebook = pd.read_csv(\n",
    "    \"ComplexityScience/facebook_combined.txt.gz\",\n",
    "    sep=\" \",\n",
    "    names=[\"start_node\", \"end_node\"],\n",
    ")\n",
    "facebook.head(10)"
   ],
   "metadata": {
    "colab": {
     "base_uri": "https://localhost:8080/",
     "height": 424
    },
    "id": "Z_tHjSFl5V4Q",
    "outputId": "925fe54e-a540-4957-cc48-5e5d3110eb2c"
   },
   "execution_count": null,
   "outputs": []
  },
  {
   "cell_type": "markdown",
   "source": [
    "\n",
    "The edges are loaded and saved in a dataframe. Each row of the dataframe represents an edge, specifying its start node and end node. The graph can be created from this edge list dataframe using networkx library."
   ],
   "metadata": {
    "id": "r2AsuVQB5e33"
   }
  },
  {
   "cell_type": "code",
   "source": [
    "# Create the Graph from the dataframe of edges\n",
    "G = nx.from_pandas_edgelist(facebook, \"start_node\", \"end_node\")"
   ],
   "metadata": {
    "id": "jWbeUp3W5XR8"
   },
   "execution_count": null,
   "outputs": []
  },
  {
   "cell_type": "markdown",
   "source": [
    "A list of nodes and edges can be viewed using:\n",
    "**G.nodes()** and **G.edges()** methods."
   ],
   "metadata": {
    "id": "Rc5Z06r15jwh"
   }
  },
  {
   "cell_type": "code",
   "source": [
    "print(\"First 5 nodes: \",list(G.nodes())[:5])\n",
    "print(\"First 5 edges: \",list(G.edges())[:5])"
   ],
   "metadata": {
    "colab": {
     "base_uri": "https://localhost:8080/"
    },
    "id": "0B3G-rXs5hEC",
    "outputId": "17d5f1ba-ae65-48d7-f673-c45316a593a8"
   },
   "execution_count": null,
   "outputs": []
  },
  {
   "cell_type": "markdown",
   "source": [
    "The total number of nodes can be computed using the **.number_of_nodes()** method on the graph variable G."
   ],
   "metadata": {
    "id": "ca8PLQ4E5oLL"
   }
  },
  {
   "cell_type": "code",
   "source": [
    "G.number_of_nodes()"
   ],
   "metadata": {
    "colab": {
     "base_uri": "https://localhost:8080/"
    },
    "id": "i08i_2BA5lSS",
    "outputId": "0a890bd6-e28e-4b77-d2fc-5125ee241fdf"
   },
   "execution_count": null,
   "outputs": []
  },
  {
   "cell_type": "markdown",
   "source": [
    "\n",
    "Similarly, the total number of edges can be computed using the **.number_of_edges()** method on G.\n",
    "\n",
    "**YOUR TURN:**\n",
    "\n",
    "Compute the number of connections in the graph using the method **.number_of_edges()**. ____"
   ],
   "metadata": {
    "id": "VKvMgBCK5rkf"
   }
  },
  {
   "cell_type": "code",
   "source": [
    "## YOUR CODE HERE\n",
    "\n"
   ],
   "metadata": {
    "id": "UUK1IS3V5pai"
   },
   "execution_count": null,
   "outputs": []
  },
  {
   "cell_type": "markdown",
   "source": [
    "## Visualize the Graph\n",
    "\n",
    "Visualization plays a central role in exploratory data analysis to help get a qualitative feel for the data. NetworkX provides several different algorithms for visualizing graph layouts. A full list of layouts can be found [here](https://networkx.org/documentation/stable/reference/drawing.html#module-networkx.drawing.layout).\n",
    "\n",
    "\n",
    "To get some sense of structure in the data, let's start by viewing the graph with **spring_layout**.\n",
    "\n",
    "\n",
    "\n",
    "### Spring Layout\n",
    "\n",
    "The spring_layout function takes into account the nodes and edges to compute locations of the nodes. The downside however, is that this process is much more computationally expensive, and can be quite slow for graphs with 100’s of nodes and 1000’s of edges. The name \"*spring*\" comes from the fact that two nodes push away from each other while the edges between them pull them closer.\n",
    "\n",
    "The layout is generated using **nx.spring_layout(G, iterations=15, seed=1721)**.\n",
    "\n",
    "To ensure a reasonable computational time, we use 15 **iterations** to determine optimal node positions in the graph. The **seed** value of 1721 ensures reproducibility, enabling consistent generation of the same plot."
   ],
   "metadata": {
    "id": "wx4dmaXD5xgv"
   }
  },
  {
   "cell_type": "code",
   "source": [
    "pos = nx.spring_layout(G, iterations=15, seed=1721) # iterations=15, seed=1721 are parameters specific to spring layout.\n",
    "fig, ax = plt.subplots(figsize=(15, 9))\n",
    "ax.axis(\"off\")\n",
    "plot_options = {\"node_size\": 10, \"with_labels\": False, \"width\": 0.15}\n",
    "nx.draw_networkx(G, pos=pos, ax=ax, **plot_options) # pass in the graph G and specified layout positions pos"
   ],
   "metadata": {
    "colab": {
     "base_uri": "https://localhost:8080/",
     "height": 730
    },
    "id": "H4YoZX8P5veV",
    "outputId": "4abdf9a2-3e16-4ecf-8a79-29637b18adef"
   },
   "execution_count": null,
   "outputs": []
  },
  {
   "cell_type": "markdown",
   "source": [
    "The visualization is quite insightful! We can get a sense of the network structure like how certain nodes are connected more closely to each other compared to others. The layout also gives a qualitative sense of clustering formed by some group of nodes.\n",
    "\n",
    "**YOUR TURN:**\n",
    "\n",
    "\n",
    "*  Try using a different layout from the networkX library to plot the graph. You can find a full list of available layouts [here](https://networkx.org/documentation/stable/reference/drawing.html#module-networkx.drawing.layout). Consider the following options suitable for the Facebook network: **spiral_layout**, **spectral_layout**, **random_layout**, and **circular_layout**.\n",
    "\n",
    "  **Note:** Each layout has its own set of parameters, which can be found by following the links provided for each individual model.\n",
    "\n",
    "*  Think about the resulting plot. Does it provide any meaningful or valuable insights about the network?"
   ],
   "metadata": {
    "id": "yVrat5t-53M8"
   }
  },
  {
   "cell_type": "markdown",
   "source": [
    "## Analyzing Network Connectivity\n",
    "\n",
    "### Average Node Degree\n",
    "\n",
    "The degree of the node is the number of connections that it has to other nodes in the network.\n",
    "\n",
    "<img src=\"https://raw.githubusercontent.com/eldanc/mlbootcamp2023/main/NodeDegree.png\" width=\"600\" height=\"200\">"
   ],
   "metadata": {
    "id": "YDIiu0wq57Di"
   }
  },
  {
   "cell_type": "markdown",
   "source": [
    "The attribute **.degree()** returns the list of the number of degrees (neighbors) for each node of the graph :"
   ],
   "metadata": {
    "id": "xRLfX-De6L9K"
   }
  },
  {
   "cell_type": "code",
   "source": [
    "# Retrieve the degree of each node as a dictionary\n",
    "degree_dict= G.degree()"
   ],
   "metadata": {
    "id": "WM7cd69250oF"
   },
   "execution_count": null,
   "outputs": []
  },
  {
   "cell_type": "code",
   "source": [
    "# Print the first 10 elements of the degree view\n",
    "print(dict(list(degree_dict)[0:10]))"
   ],
   "metadata": {
    "colab": {
     "base_uri": "https://localhost:8080/"
    },
    "id": "bQKi32ls6NSH",
    "outputId": "42b68f16-5d6f-4f38-8813-9f1899ee58e5"
   },
   "execution_count": null,
   "outputs": []
  },
  {
   "cell_type": "markdown",
   "source": [
    "**YOUR TURN:**\n",
    "\n",
    "* Compute the average node degree of the network using the **degree_dict** variable (Hint: use np.mean to compute the average). _____\n",
    "* What does the result tell you about the overall connectivity of the network? _____"
   ],
   "metadata": {
    "id": "dgOrXS4r6QJH"
   }
  },
  {
   "cell_type": "code",
   "source": [
    "## YOUR CODE HERE\n",
    "\n"
   ],
   "metadata": {
    "id": "50CHuPtU6Oeo"
   },
   "execution_count": null,
   "outputs": []
  },
  {
   "cell_type": "markdown",
   "source": [
    "### Clustering Coefficient\n",
    "\n",
    "The clustering coefficient of a **node v** is defined as the probability that two randomly selected friends of **v** are also friends with each other. When all links between neighbours of **v** are present, then and the clustering coefficient takes its maximum value of 1. The clustering coefficient of a graph provides a measure of how tightly clustered an undirected graph is. In other words how tightly connected two friends are with regards to their mutual friends.\n",
    "\n",
    "<img src=\"https://raw.githubusercontent.com/eldanc/mlbootcamp2023/main/clutsterCoefficient.png\" width=\"600\" height=\"200\">\n",
    "\n",
    "\n",
    "As a result, the average clustering coefficient is the average of clustering coefficients of all the nodes. It provides information about the local clustering pattern around individual nodes. A high average clustering coefficient indicates that nodes in the graph tend to form clusters or communities.\n",
    "\n"
   ],
   "metadata": {
    "id": "rxKN4-cw6Ta4"
   }
  },
  {
   "cell_type": "code",
   "source": [
    "# Clustering coefficient of Graph G\n",
    "nx.average_clustering(G)"
   ],
   "metadata": {
    "colab": {
     "base_uri": "https://localhost:8080/"
    },
    "id": "hs3Iy2mO6RQ9",
    "outputId": "7356d768-6ad1-4986-b9fb-b214cd3397fb"
   },
   "execution_count": null,
   "outputs": []
  },
  {
   "cell_type": "markdown",
   "source": [
    "To evaluate if the clustering is high enough, we can use a **null model**, which is simply a random rearrangement of the edges in our original graph G. This can be achieved by randomly shuffling the \"**end_node**\" column of our dataframe. Then we can compute and compare the clustering coefficients of the null model vs the actual network."
   ],
   "metadata": {
    "id": "dbPdGIKz6fjV"
   }
  },
  {
   "cell_type": "code",
   "source": [
    "# Creating a null model from original graph G\n",
    "\n",
    "# Create a copy of facebook dataframe\n",
    "facebook_copy = facebook.copy()\n",
    "\n",
    "# Shuffle the end node column of facebook dataframe\n",
    "facebook_copy[\"end_node\"] = np.random.permutation(facebook_copy[\"end_node\"])\n",
    "\n",
    "# Create the Graph from the dataframe of edges\n",
    "G_null_model = nx.from_pandas_edgelist(facebook_copy, \"start_node\", \"end_node\")"
   ],
   "metadata": {
    "id": "aUXNQFkO6eJh"
   },
   "execution_count": null,
   "outputs": []
  },
  {
   "cell_type": "markdown",
   "source": [
    "**YOUR TURN:**\n",
    "\n",
    "* What is the average clustering coefficient of the null model? _____\n",
    "\n",
    "* Compare the average clustering coefficients of the null model to our actual Facebook network? What conclusions can be drawn from this comparison? _____\n"
   ],
   "metadata": {
    "id": "om-9EmlQ6i11"
   }
  },
  {
   "cell_type": "markdown",
   "source": [
    "### Average Shortest Path Length of the Graph\n",
    "\n",
    "* **Shortest Path between a pair of nodes:**\n",
    "\n",
    "  The **shortest path** between any pair of nodes is the minimum number of edges that needs to be traversed to get from one node to another. To compute the shortest path lengths for all pairs of nodes in the network, we can use the **nx.all_pairs_shortest_path_length()** function.\n",
    "\n",
    "  It returns an iterator with dictionary where each key represents a source node, and the corresponding value is another dictionary that holds the shortest path lengths to all other nodes. Specifically, **dict[u][v]** stores the shortest path length between **node u** and **node v** in the network.\n",
    "\n",
    "  More details about its implementation can be found [here](https://networkx.org/documentation/stable/reference/algorithms/generated/networkx.algorithms.shortest_paths.unweighted.all_pairs_shortest_path_length.html)\n",
    "\n",
    "* **Average shortest path length:**\n",
    "\n",
    "  Thus, the **average shortest path length** gives a measure of the average number of edges to be traversed to get from one node to another in the network. This can be simply computed using the **nx.average_shortest_path_length**.\n",
    "\n",
    "\n",
    "  **YOUR TURN:**\n",
    "\n",
    "* Compute the shortest path length between nodes 0 and 52. You can refer to this [link](https://networkx.org/documentation/stable/reference/algorithms/generated/networkx.algorithms.shortest_paths.unweighted.all_pairs_shortest_path_length.html) for help with implementation. _____\n",
    "\n",
    "* Compute the average shortest path length for the entire network. What insights can be gained from this value about the network's characteristics?____"
   ],
   "metadata": {
    "id": "PMIpxFs96mOF"
   }
  },
  {
   "cell_type": "code",
   "source": [
    "## YOUR CODE HERE\n",
    "# Compute the shortest path length between nodes 0 and 52\n",
    "\n"
   ],
   "metadata": {
    "id": "asViRkBk6g3R"
   },
   "execution_count": null,
   "outputs": []
  },
  {
   "cell_type": "code",
   "source": [
    "## YOUR CODE HERE\n",
    "#  Compute the average shortest path length for the entire network\n",
    "\n",
    "\n"
   ],
   "metadata": {
    "id": "ZJ3SiAUe6qQR"
   },
   "execution_count": null,
   "outputs": []
  },
  {
   "cell_type": "markdown",
   "source": [
    "## Centrality Measures\n",
    "\n",
    "Network centrality is one of the most well-known metrics in social network analysis, quantifying the extent to which an individual (i.e. node) holds a central position within a network.\n",
    "\n",
    "Within the NetworkX centrality library, there exist several algorithms for measuring centrality under the **centrality** module. However, in this discussion, we will focus on the two most widely used ones: Degree centrality and Betweenness centrality. A complete list of centrality measures can be found [here](https://networkx.org/documentation/stable/reference/algorithms/centrality.html)\n",
    "\n",
    "\n",
    "### Degree Centrality\n",
    "\n",
    "Degree centrality assigns an importance score to a node based on the number of edges connected to it, which is known as the node's degree. Therefore, nodes with more neighbors have higher degrees, resulting in higher degree centrality. In other words, degree centrality represents the proportion of the network that a specific node is connected to or shares connections with, analogous to being friends with on Facebook.\n",
    "\n",
    "\n",
    "Degree centrality of each node can be computed using the **.centrality.degree_centrality()** function of NetworkX library, which returns a dictionary where the keys represent the nodes and the values indicate their degree centrality."
   ],
   "metadata": {
    "id": "50oYuRPq6sp_"
   }
  },
  {
   "cell_type": "code",
   "source": [
    "# Computing the degree centrality of nodes\n",
    "degree_centrality = nx.centrality.degree_centrality(G)"
   ],
   "metadata": {
    "id": "ToFWKjBc6rJJ"
   },
   "execution_count": null,
   "outputs": []
  },
  {
   "cell_type": "markdown",
   "source": [
    "We can utilize the **degree centrality** dictionary to identify the top 10 nodes with the highest degree centrality by sorting the values in descending order."
   ],
   "metadata": {
    "id": "T6Tv9zZF6yQ8"
   }
  },
  {
   "cell_type": "code",
   "source": [
    "# View the top 10 nodes with the highest degree centrality\n",
    "top_10_dc= (sorted(degree_centrality.items(), key=lambda item: item[1], reverse=True))[:10] # Gets the dict items and takes the second value for sorting\n",
    "\n",
    "for i, (node, centrality) in enumerate(top_10_dc):\n",
    "    print(\"Node:\", node, \"\\tDegree centrality:\", centrality)"
   ],
   "metadata": {
    "colab": {
     "base_uri": "https://localhost:8080/"
    },
    "id": "9mhv7FcT6wr4",
    "outputId": "30c12f34-8425-44c6-9d3e-51177ed33fa5"
   },
   "execution_count": null,
   "outputs": []
  },
  {
   "cell_type": "markdown",
   "source": [
    "Insights from top 10 nodes with the highest degree centralities:\n",
    "\n",
    "We see that node 107 has the highest degree centrality with 0.259, meaning that this facebook user is friends with around the 26% of the whole network. Similarly, nodes 1684, 1912, and 3437 also have very high degree centralities. However, that is well expected as those nodes are the ones whose facebook circles we examine (i.e. spotlight nodes).\n",
    "\n",
    "\n"
   ],
   "metadata": {
    "id": "eILC2pZR60_K"
   }
  },
  {
   "cell_type": "markdown",
   "source": [
    "### Betweenness Centrality\n",
    "Betweenness centrality measures the number of times a node lies on the shortest path between other nodes, meaning it acts as a bridge. In detail, betweenness centrality of a **node v** is the percentage of all the shortest paths of any two nodes (apart from v), which pass through v.\n",
    "\n",
    "Specifically, in the facebook graph this measure is associated with the user's ability to influence others. A user with a high betweenness centrality acts as a bridge to many users that are not friends and thus has the ability to influence them by conveying information (e.g. by posting something or sharing a post) or even connect them via the user's circle (which would reduce the user's betweenness centrality after).\n",
    "\n",
    "Similar to degree centrality, the betweenness centrality of each node can be computed using the **.centrality.betweenness_centrality()** function of NetworkX, which returns a dictionary where the keys represent the nodes and the values indicate their degree centrality.\n",
    "\n",
    "(may require a few minutes to compute)"
   ],
   "metadata": {
    "id": "xMDZkhjW6187"
   }
  },
  {
   "cell_type": "code",
   "source": [
    "# Compute betweenness centrality of a Graph\n",
    "betweenness_centrality = nx.centrality.betweenness_centrality(G)"
   ],
   "metadata": {
    "id": "loFlzJVx6zZx"
   },
   "execution_count": null,
   "outputs": []
  },
  {
   "cell_type": "markdown",
   "source": [
    "**YOUR TURN:**\n",
    "\n",
    "Using similar code structure from degree centrality, answer the following questions:\n",
    "\n",
    "* Find the top 10 nodes have the highest betweenness centrality. _____\n",
    "* What can be concluded from the centrality value of the node with the highest betweenness centrality? ____"
   ],
   "metadata": {
    "id": "25GMPPfh66AY"
   }
  },
  {
   "cell_type": "code",
   "source": [
    "## YOUR CODE HERE\n",
    "# Find the top 10 nodes with the highest betweenness centrality\n",
    "\n"
   ],
   "metadata": {
    "id": "hUlx2PMn64dv"
   },
   "execution_count": null,
   "outputs": []
  },
  {
   "cell_type": "markdown",
   "source": [
    "#### Visualize betweenness centrality using node size\n",
    "\n",
    "We can visualize the betweenness centrality of nodes by adjusting the node size to reflect centrality values. To achieve this, we can reuse the **spring_layout** plotting code and simply modify the **node_size** parameter of the **.draw_networkx** function, specifying it as the centrality values. This will create a visualization where the node size corresponds to the betweenness centrality of each node."
   ],
   "metadata": {
    "id": "Fm7BgAbn689-"
   }
  },
  {
   "cell_type": "code",
   "source": [
    "# Visualize betweenness centrality in the graph\n",
    "\n",
    "# set up nodes size for a nice graph representation\n",
    "node_size = [v * 1000 for v in betweenness_centrality.values()] # we magnify the node size to reflect centrality values\n",
    "\n",
    "pos = nx.spring_layout(G, iterations=15, seed=1721) # iterations=15, seed=1721 are parameters specific to spring layout.\n",
    "fig, ax = plt.subplots(figsize=(15, 9))\n",
    "ax.axis(\"off\")\n",
    "plot_options = {\"node_size\": node_size, \"with_labels\": False, \"width\": 0.15}\n",
    "nx.draw_networkx(G, pos=pos, ax=ax, **plot_options) # pass in the graph G and specified layout positions pos\n"
   ],
   "metadata": {
    "colab": {
     "base_uri": "https://localhost:8080/",
     "height": 730
    },
    "id": "Zg0eYVmZ67YZ",
    "outputId": "b0d9355d-c1b8-4076-cf04-da5d4bb451ac"
   },
   "execution_count": null,
   "outputs": []
  },
  {
   "cell_type": "markdown",
   "source": [
    "## Network Communities\n",
    "\n",
    "A community is a group of nodes, so that nodes inside the group are connected with many more edges than between groups.\n",
    "\n",
    "While several algorithms exists to detect communities, we will only be looking at the Louvain community detection algorithm.\n",
    "\n",
    "A full list of available community detection algorithms can be found [here](https://networkx.org/documentation/stable/reference/algorithms/community.html)\n",
    "\n",
    "\n",
    "\n",
    "### Louvain Algorithm\n",
    "\n",
    "\n",
    "\n",
    "The Louvain Community Detection Algorithm is a method used to automatically determine the best partition of a graph, effectively identifying communities within the network. By applying this algorithm, we can find communities without explicitly specifying the number of communities to be detected.\n",
    "\n",
    "\n",
    "Once the communities are identified, we can iterate through them and create a colors list which will assign the same color to nodes that belong to the same community, enhancing visual distinction. Lastly we print the total number of communities found.\n",
    "\n",
    "To apply the Louvain algorithm using the NetworkX community library, we can call the function **nx.community.louvain_communities(G)**, where G represents the graph. This function will return the communities detected by the algorithm."
   ],
   "metadata": {
    "id": "LX8Gs_b17AYD"
   }
  },
  {
   "cell_type": "code",
   "source": [
    "colors = [\"\" for x in range(G.number_of_nodes())]  # initialize colors list\n",
    "counter = 0\n",
    "for com in nx.community.louvain_communities(G):\n",
    "    color = \"#%06X\" % randint(0, 0xFFFFFF)  # creates random RGB color\n",
    "    counter += 1\n",
    "    for node in list(com):  # fill colors list with the particular color for the community nodes\n",
    "        colors[node] = color\n",
    "counter"
   ],
   "metadata": {
    "colab": {
     "base_uri": "https://localhost:8080/"
    },
    "id": "0eIwbr7B6-gN",
    "outputId": "d5bc46ae-24c0-45b0-9958-f23fa11eb507"
   },
   "execution_count": null,
   "outputs": []
  },
  {
   "cell_type": "markdown",
   "source": [
    "In detail, 16 communities were detected. Now the communities are showcased in the graph by adding a parameter \"**node_color**\" to out plotting code. Each community is depicted with a different color and its nodes are usually located close to each other."
   ],
   "metadata": {
    "id": "Gj1lTn9w7Iue"
   }
  },
  {
   "cell_type": "code",
   "source": [
    "pos = nx.spring_layout(G, iterations=15, seed=1721) # iterations=15, seed=1721 are parameters specific to spring layout.\n",
    "fig, ax = plt.subplots(figsize=(15, 9))\n",
    "ax.axis(\"off\")\n",
    "plot_options = {\"node_size\": 10, \"with_labels\": False, \"width\": 0.15, \"node_color\": colors}\n",
    "nx.draw_networkx(G, pos=pos, ax=ax, **plot_options)"
   ],
   "metadata": {
    "colab": {
     "base_uri": "https://localhost:8080/",
     "height": 730
    },
    "id": "FiWHJjxY7Frm",
    "outputId": "520977fd-f2a6-4990-a669-ed3a5421360b"
   },
   "execution_count": null,
   "outputs": []
  },
  {
   "cell_type": "markdown",
   "source": [
    "#### Louvain partitions\n",
    "We can utilize the function **.louvain_partitions()** in NetworkX to obtain partitions for each level of the Louvain Community Detection Algorithm. This function explores different levels of granularity in the community detection process, providing a hierarchical view of the communities within the network. It allows us to analyze the network's communities at different resolutions, gaining insights into both macro-scale and microscale structures."
   ],
   "metadata": {
    "id": "234CIDtZ7Mo-"
   }
  },
  {
   "cell_type": "code",
   "source": [
    "# Visualizes community partitions at multiple granularity levels\n",
    "\n",
    "# Obtain partitions for each level of the Louvain algorithm\n",
    "partitions = list(nx.community.louvain_partitions(G))\n",
    "\n",
    "# Create a colors list for each partition to assign the same color to nodes within each community\n",
    "for level, partition in enumerate(partitions):\n",
    "  # print(partition)\n",
    "  colors = [\"\" for x in range(G.number_of_nodes())]  # initialize colors list\n",
    "\n",
    "  counter = 0\n",
    "  for com in partition:\n",
    "      color = \"#%06X\" % randint(0, 0xFFFFFF)  # creates random RGB color\n",
    "      counter += 1\n",
    "      for node in list(com):  # fill colors list with the particular color for the community nodes\n",
    "          colors[node] = color\n",
    "  print(\"Number of communities found in partition \", level,\" : \" ,counter)\n",
    "\n",
    "  # Visualize the communities found for each partition level\n",
    "  pos = nx.spring_layout(G, iterations=15, seed=1721) # iterations=15, seed=1721 are parameters specific to spring layout.\n",
    "  fig, ax = plt.subplots(figsize=(15, 9))\n",
    "  ax.set_title(f\"Louvain Clustering Partition Level {level}\")\n",
    "  plot_options = {\"node_size\": 10, \"with_labels\": False, \"width\": 0.15, \"node_color\": colors}\n",
    "  nx.draw_networkx(G, pos=pos, ax=ax, **plot_options)\n",
    "\n",
    "  # Show the plot\n",
    "  plt.show()\n",
    "\n"
   ],
   "metadata": {
    "id": "TgSlAGaB7_Zr"
   },
   "execution_count": null,
   "outputs": []
  },
  {
   "cell_type": "code",
   "execution_count": null,
   "outputs": [],
   "source": [],
   "metadata": {
    "collapsed": false
   }
  }
 ]
}
